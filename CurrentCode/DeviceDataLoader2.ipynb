{
 "cells": [
  {
   "cell_type": "code",
   "execution_count": null,
   "id": "01265c69-93c8-4f22-8b0e-764710161c82",
   "metadata": {},
   "outputs": [],
   "source": [
    "import time as T \n",
    "import torch\n",
    "import numpy as np\n",
    "import matplotlib.pyplot as plt\n",
    "import torchvision.datasets as datsets\n",
    "import torchvision.transforms as transforms\n",
    "\n",
    "from torch.utils.data.sampler import SubsetRandomSampler\n",
    "from torchvision.utils import make_grid\n",
    "from torch.utils.data.dataloader import DataLoader\n",
    "import pickle as P\n",
    "import os \n",
    "#Set reference working directory to be parent folder \n",
    "#import os \n",
    "#os.chdir('..')"
   ]
  },
  {
   "cell_type": "code",
   "execution_count": 12,
   "id": "56542683",
   "metadata": {},
   "outputs": [],
   "source": [
    "#print(os.getcwd())"
   ]
  },
  {
   "cell_type": "code",
   "execution_count": 13,
   "id": "f13ad0f2",
   "metadata": {},
   "outputs": [],
   "source": [
    "#Pickle based upload and load python file helper function  \n",
    "\n",
    "def uploadObject(Object, filename, nosilence=True):\n",
    "    t0 = T.time()\n",
    "    i=1\n",
    "    while 1==1:\n",
    "        try:\n",
    "            filehandler = open(filename, 'wb') \n",
    "            \n",
    "            P.dump(Object, filehandler)\n",
    "            loadObject(filename)\n",
    "            if nosilence:\n",
    "                print('----------------FINISHED SAVING----------------')\n",
    "            break\n",
    "        except EOFError:\n",
    "            if nosilence:\n",
    "                print(f'Attempt #{i} failed')\n",
    "            i+=1\n",
    "            if i == 11:\n",
    "                if nosilence:\n",
    "                    print('Failed to Save')\n",
    "                break\n",
    "            \n",
    "        \n",
    "    t1 = T.time() - t0\n",
    "    if nosilence:\n",
    "        print(f'Time: {t1-t0:.5f} s\\n')\n",
    "    \n",
    "def loadObject(filename, nosilence=True):\n",
    "    t0 = T.time()\n",
    "    infile = open(filename,'rb')\n",
    "    Object = P.load(infile)\n",
    "    infile.close()\n",
    "    t1 = T.time()\n",
    "    if nosilence:\n",
    "        print(f'Time: {t1-t0:.5f} s\\n')\n",
    "    return Object"
   ]
  },
  {
   "cell_type": "code",
   "execution_count": 14,
   "id": "fa4c7526-8979-4f3d-bf9a-d23d5b3a2b26",
   "metadata": {},
   "outputs": [],
   "source": [
    "def to_device(data, device):\n",
    "    \"\"\"Move tensor(s) to chosen device\"\"\"\n",
    "    if isinstance(data, (list,tuple)):\n",
    "        return [to_device(x, device) for x in data]\n",
    "    return data.to(device, non_blocking=True)"
   ]
  },
  {
   "cell_type": "code",
   "execution_count": 15,
   "id": "4c12a3c2-af81-48c2-b0dd-f71d10078d03",
   "metadata": {},
   "outputs": [],
   "source": [
    "class DeviceDataLoader():\n",
    "    \"\"\"Wrap a dataloader to move data to a device\"\"\"\n",
    "    def __init__(self, dl, device):\n",
    "        self.dl = dl\n",
    "        self.device = device\n",
    "        \n",
    "    def __iter__(self):\n",
    "        \"\"\"Yield a batch of data after moving it to device\"\"\"\n",
    "        for b in self.dl: \n",
    "            yield to_device(b, self.device)\n",
    "\n",
    "    def __len__(self):\n",
    "        \"\"\"Number of batches\"\"\"\n",
    "        return len(self.dl)"
   ]
  },
  {
   "cell_type": "code",
   "execution_count": 16,
   "id": "846e21cb",
   "metadata": {},
   "outputs": [],
   "source": [
    "#Split the train and test indicies \n",
    "def split_indices(n,val_pct):\n",
    "    #determine size of validation set\n",
    "    n_val = int(n*val_pct)\n",
    "    #create random permutation of 0 to n-1\n",
    "    idxs = np.random.permutation(n)\n",
    "    #Pick first n_val random indices as validation set\n",
    "    return idxs[n_val:], idxs[:n_val]"
   ]
  },
  {
   "cell_type": "code",
   "execution_count": 17,
   "id": "76b8a988",
   "metadata": {},
   "outputs": [],
   "source": [
    "c = 1 \n",
    "if str(os.getcwd())[-16:] != \"AI II FINAL CODE\":\n",
    "    #Go to the parent folder AI II FINAL CODE as main path \n",
    "    try: \n",
    "        import os\n",
    "        os.chdir('../../AI II FINAL CODE/')\n",
    "    except:\n",
    "        pass "
   ]
  },
  {
   "cell_type": "code",
   "execution_count": null,
   "id": "35972b07",
   "metadata": {},
   "outputs": [],
   "source": [
    "class AddGaussianNoise(object):\n",
    "    def __init__(self, mean=0., std=1.):\n",
    "        self.std = std\n",
    "        self.mean = mean\n",
    "        \n",
    "    def __call__(self, tensor):\n",
    "        return tensor + torch.randn(tensor.size()) * self.std + self.mean\n",
    "    \n",
    "    def __repr__(self):\n",
    "        return self.__class__.__name__ + '(mean={0}, std={1})'.format(self.mean, self.std)"
   ]
  },
  {
   "cell_type": "code",
   "execution_count": null,
   "id": "9df5be9a",
   "metadata": {},
   "outputs": [],
   "source": [
    "\n",
    "if c > 0: \n",
    "    transform=transforms.Compose([\n",
    "    transforms.ToTensor()])\n",
    "    #AddGaussianNoise(0., 1.) ])\n",
    "    \n",
    "    #Import dataset from data folder in parent folder \n",
    "    dataset = datsets.FashionMNIST(root='data/', download=False, transform=transform)"
   ]
  },
  {
   "cell_type": "code",
   "execution_count": 21,
   "id": "d4808570",
   "metadata": {},
   "outputs": [
    {
     "data": {
      "text/plain": [
       "60000"
      ]
     },
     "execution_count": 21,
     "metadata": {},
     "output_type": "execute_result"
    }
   ],
   "source": [
    "len(dataset)"
   ]
  },
  {
   "cell_type": "code",
   "execution_count": 22,
   "id": "e9fe61d3",
   "metadata": {},
   "outputs": [],
   "source": [
    "if c > 1: \n",
    "    #Show image of one example \n",
    "    image, label = dataset[0]\n",
    "    print('image.shape:', image.shape)\n",
    "    plt.imshow(image.permute(1, 2, 0), cmap='gray')\n",
    "    print('Label:', label)"
   ]
  },
  {
   "cell_type": "code",
   "execution_count": 23,
   "id": "1371f6e8",
   "metadata": {},
   "outputs": [],
   "source": [
    "if c > 0:\n",
    "    #Make 40% of the data testing data \n",
    "    train_indices, val_indices = split_indices(len(dataset), 0.4)\n",
    "\n",
    "    if c > 1: \n",
    "        print(len(train_indices))\n",
    "        print(len(val_indices))\n",
    "        print(\"Random Validation Samples:\", val_indices[:5])"
   ]
  },
  {
   "cell_type": "code",
   "execution_count": null,
   "id": "5d0f6a0d",
   "metadata": {},
   "outputs": [
    {
     "data": {
      "text/plain": [
       "(36000,)"
      ]
     },
     "execution_count": 25,
     "metadata": {},
     "output_type": "execute_result"
    }
   ],
   "source": [
    "train_indices"
   ]
  },
  {
   "cell_type": "code",
   "execution_count": null,
   "id": "056cf5b2",
   "metadata": {},
   "outputs": [],
   "source": [
    "if c > 0: \n",
    "    #Create the training and testing batches \n",
    "    batch_size=512\n",
    "\n",
    "    #Training sampler and data loader\n",
    "    train_sampler = SubsetRandomSampler(train_indices)\n",
    "    train_loader = DataLoader(dataset, \n",
    "                            batch_size, sampler = train_sampler)\n",
    "\n",
    "    #Validation sampler and data loader\n",
    "    val_sampler = SubsetRandomSampler(val_indices)\n",
    "    val_loader = DataLoader(dataset, \n",
    "                            batch_size, sampler = val_sampler)"
   ]
  },
  {
   "cell_type": "code",
   "execution_count": null,
   "id": "dea34935",
   "metadata": {},
   "outputs": [],
   "source": [
    "if c > 1: \n",
    "    #Show the images of each batch \n",
    "    for images, _ in train_loader:\n",
    "        print('images.shape:', images.shape)\n",
    "        plt.figure(figsize=(16,8))\n",
    "        plt.axis('off')\n",
    "        plt.imshow(make_grid(images, nrow=16).permute((1, 2, 0)))\n",
    "        break"
   ]
  },
  {
   "cell_type": "code",
   "execution_count": null,
   "id": "2da8f7f5",
   "metadata": {},
   "outputs": [],
   "source": [
    "if c > 0: \n",
    "    #USe cuda when avilable \n",
    "    device = torch.device('cuda') if torch.cuda.is_available() else torch.device('cpu')\n",
    "    print(f\"Using device: {device}\")"
   ]
  },
  {
   "cell_type": "code",
   "execution_count": null,
   "id": "1034272f",
   "metadata": {},
   "outputs": [],
   "source": [
    "if c > 1: \n",
    "    for images, labels in train_loader:\n",
    "        print(images.shape)\n",
    "        images = to_device(images, device)\n",
    "        print(images.device)\n",
    "        break"
   ]
  },
  {
   "cell_type": "code",
   "execution_count": null,
   "id": "486cd3ec",
   "metadata": {},
   "outputs": [],
   "source": [
    "if c > 0: \n",
    "    #Load the training and testing data \n",
    "    train_loader = DeviceDataLoader(train_loader, device)\n",
    "    val_loader = DeviceDataLoader(val_loader, device)"
   ]
  }
 ],
 "metadata": {
  "kernelspec": {
   "display_name": "S4_ENV",
   "language": "python",
   "name": "python3"
  },
  "language_info": {
   "codemirror_mode": {
    "name": "ipython",
    "version": 3
   },
   "file_extension": ".py",
   "mimetype": "text/x-python",
   "name": "python",
   "nbconvert_exporter": "python",
   "pygments_lexer": "ipython3",
   "version": "3.12.9"
  }
 },
 "nbformat": 4,
 "nbformat_minor": 5
}
