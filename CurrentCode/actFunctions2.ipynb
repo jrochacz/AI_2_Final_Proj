{
 "cells": [
  {
   "cell_type": "code",
   "execution_count": 166,
   "metadata": {},
   "outputs": [],
   "source": [
    "import torch.nn as nn\n",
    "import torch\n",
    "import numpy as np\n",
    "from torch import exp, where, erf, tensor, sin, cos\n",
    "from torch import pow as POW\n",
    "from numpy import pi\n",
    "import matplotlib.pyplot as plt"
   ]
  },
  {
   "cell_type": "code",
   "execution_count": null,
   "metadata": {},
   "outputs": [],
   "source": [
    "#https://arxiv.org/abs/2112.11687\n",
    "#custom grad activation function helper for squareplus\n",
    "class squarePlus_helper(torch.autograd.Function):\n",
    "        \n",
    "    @staticmethod\n",
    "    def forward(ctx, data:tensor):\n",
    "\n",
    "        val = POW(data, 2) + 1\n",
    "        \n",
    "        ctx.save_for_backward(data, val)\n",
    "\n",
    "        return 0.5*(POW(val, 0.5) + data - 1) \n",
    "        \n",
    "    @staticmethod\n",
    "    def backward(ctx, grad_output:tensor):\n",
    "\n",
    "        (data, val) = ctx.saved_tensors\n",
    "\n",
    "        grad = 0.5*(1 + data*POW(val, -0.5))\n",
    "        \n",
    "        return grad*grad_output\n",
    "\n",
    "class squarePlus(nn.Module):\n",
    "\n",
    "    def __init__(self) -> None:\n",
    "        super(squarePlus, self).__init__()\n",
    "        self.fn =  squarePlus_helper.apply\n",
    "\n",
    "    def forward(self, x) -> tensor:\n",
    "\n",
    "        return self.fn(x)"
   ]
  },
  {
   "cell_type": "code",
   "execution_count": null,
   "metadata": {},
   "outputs": [],
   "source": []
  },
  {
   "cell_type": "code",
   "execution_count": 168,
   "metadata": {},
   "outputs": [],
   "source": [
    "#https://arxiv.org/abs/2306.01822\n",
    "#custom grad activation function helper for erf plus\n",
    "class erfRelu_helper(torch.autograd.Function):\n",
    "        \n",
    "    @staticmethod\n",
    "    def forward(ctx, data:tensor):\n",
    "        \n",
    "        ctx.save_for_backward(data)\n",
    "\n",
    "        return where(data < 0, np.sqrt(pi)/2*erf(data), data) #+ np.sqrt(pi)/2\n",
    "        \n",
    "    @staticmethod\n",
    "    def backward(ctx, grad_output:tensor):\n",
    "        \n",
    "        (data, ) = ctx.saved_tensors\n",
    "\n",
    "        grad = where(data < 0, exp(-POW(data, 2)), 1)\n",
    "        \n",
    "        return grad*grad_output\n",
    "\n",
    "#Our custom grad function as a nn.Module \n",
    "class erfRelu(nn.Module):\n",
    "\n",
    "    def __init__(self) -> None:\n",
    "        super(erfRelu, self).__init__()\n",
    "        self.fn = erfRelu_helper.apply\n",
    "\n",
    "    def forward(self, x) -> tensor:\n",
    "\n",
    "        return self.fn(x)"
   ]
  },
  {
   "cell_type": "code",
   "execution_count": null,
   "metadata": {},
   "outputs": [],
   "source": [
    "#Our custom grad activation function helper for erf plus\n",
    "class erfPlus_helper(torch.autograd.Function):\n",
    "        \n",
    "    @staticmethod\n",
    "    def forward(ctx, data:tensor):\n",
    "        \n",
    "        a = np.sqrt(np.pi)/2\n",
    "        \n",
    "        grad = where(data < 0, -erf(a*POW(data, -1)), 1)\n",
    "        \n",
    "        ctx.save_for_backward(data, grad)\n",
    "\n",
    "        return data*grad\n",
    "        \n",
    "    @staticmethod\n",
    "    def backward(ctx, grad_output:tensor):\n",
    "        \n",
    "        a = np.sqrt(np.pi)/2\n",
    "        \n",
    "        (data, grad) = ctx.saved_tensors\n",
    "\n",
    "        val = a*POW(data, -1)\n",
    "\n",
    "        grad = grad + where(data < 0, 2/np.sqrt(np.pi)*val*exp(-POW(val, 2)), 0)\n",
    "        \n",
    "        return grad*grad_output\n",
    "\n",
    "#Our custom grad function as a nn.Module \n",
    "class erfPlus(nn.Module):\n",
    "\n",
    "    def __init__(self) -> None:\n",
    "        super(erfPlus, self).__init__()\n",
    "        self.fn = erfPlus_helper.apply\n",
    "\n",
    "    def forward(self, x) -> tensor:\n",
    "\n",
    "        return self.fn(x)"
   ]
  },
  {
   "cell_type": "code",
   "execution_count": 170,
   "metadata": {},
   "outputs": [],
   "source": [
    "#Our custom grad activation function helper for erf minus\n",
    "class erfMinus_helper(torch.autograd.Function):\n",
    "        \n",
    "    @staticmethod\n",
    "    def forward(ctx, data:tensor):\n",
    "        \n",
    "        #normalization factor \n",
    "        data = 2*data +1/3 \n",
    "        \n",
    "        grad = where(data < 0, 0, exp(-POW(data, -2)))\n",
    "        \n",
    "        ctx.save_for_backward(2*grad)\n",
    "    \n",
    "        grad = data*grad + where(data < 0, 0, np.sqrt(pi)*erf(POW(data, -1)) - np.sqrt(pi))\n",
    "\n",
    "        return grad\n",
    "        \n",
    "    @staticmethod\n",
    "    def backward(ctx, grad_output:tensor):\n",
    "        \n",
    "        (grad, ) = ctx.saved_tensors\n",
    "\n",
    "        return grad*grad_output\n",
    "\n",
    "#Our custom grad function as a nn.Module \n",
    "class erfMinus(nn.Module):\n",
    "\n",
    "    def __init__(self) -> None:\n",
    "        super(erfMinus, self).__init__()\n",
    "        self.fn = erfMinus_helper.apply\n",
    "\n",
    "    def forward(self, x) -> tensor:\n",
    "\n",
    "        return self.fn(x)"
   ]
  },
  {
   "cell_type": "code",
   "execution_count": null,
   "metadata": {},
   "outputs": [],
   "source": [
    "#Our custom grad activation function helper for erf plus\n",
    "class erfPlus2_helper(torch.autograd.Function):\n",
    "        \n",
    "    @staticmethod\n",
    "    def forward(ctx, data:tensor):\n",
    "        \n",
    "        a = np.pi**(-1/2)\n",
    "\n",
    "        val = a*POW(data, -1)\n",
    "        \n",
    "        grad = where(data < 0, 1-exp(-POW(val, 2)), 1)\n",
    "        \n",
    "        ctx.save_for_backward(grad)\n",
    "        \n",
    "        grad = data*grad - where(data < 0, a*np.sqrt(np.pi)*(erf(val)+1), 0)\n",
    "\n",
    "        return grad\n",
    "        \n",
    "    @staticmethod\n",
    "    def backward(ctx, grad_output:tensor):\n",
    "        \n",
    "        (grad, ) = ctx.saved_tensors\n",
    "        \n",
    "        return grad*grad_output\n",
    "\n",
    "#Our custom grad function as a nn.Module \n",
    "class erfPlus2(nn.Module):\n",
    "\n",
    "    def __init__(self) -> None:\n",
    "        super(erfPlus2, self).__init__()\n",
    "        self.fn = erfPlus2_helper.apply\n",
    "\n",
    "    def forward(self, x) -> tensor:\n",
    "\n",
    "        return self.fn(x)"
   ]
  },
  {
   "cell_type": "code",
   "execution_count": null,
   "metadata": {},
   "outputs": [],
   "source": [
    "\n",
    "#Our custom grad activation function helper for erf plus\n",
    "class erfPlus3_helper(torch.autograd.Function):\n",
    "        \n",
    "    @staticmethod\n",
    "    def forward(ctx, data:tensor):\n",
    "        \n",
    "        a = np.sqrt(np.pi)/2\n",
    "        \n",
    "        val = POW(data, -1)\n",
    "        \n",
    "        grad = where(data < 0, -erf(a*val), 1)\n",
    "        \n",
    "        grad_der = grad + where(data < 0, val*exp(-POW(a*val, 2)), 0)\n",
    "        \n",
    "        ctx.save_for_backward(grad_der)\n",
    "\n",
    "        return data*grad\n",
    "        \n",
    "    @staticmethod\n",
    "    def backward(ctx, grad_output:tensor):\n",
    "        \n",
    "        (grad, ) = ctx.saved_tensors\n",
    "        \n",
    "        return grad*grad_output\n",
    "\n",
    "#Our custom grad function as a nn.Module \n",
    "class erfPlus3(nn.Module):\n",
    "\n",
    "    def __init__(self) -> None:\n",
    "        super(erfPlus3, self).__init__()\n",
    "        self.fn = erfPlus3_helper.apply\n",
    "\n",
    "    def forward(self, x) -> tensor:\n",
    "\n",
    "        return self.fn(x)"
   ]
  },
  {
   "cell_type": "code",
   "execution_count": 192,
   "metadata": {},
   "outputs": [],
   "source": [
    "#https://arxiv.org/abs/2112.11687\n",
    "#custom grad activation function helper for squareplus\n",
    "class degreePlus_helper(torch.autograd.Function):\n",
    "        \n",
    "    @staticmethod\n",
    "    def forward(ctx, data:tensor):\n",
    "\n",
    "        a = 2*4\n",
    "\n",
    "        val = POW(data, a) + 1\n",
    "        \n",
    "        ctx.save_for_backward(data, val)\n",
    "\n",
    "        return 0.5*(POW(val, 1/a) + data) \n",
    "        \n",
    "    @staticmethod\n",
    "    def backward(ctx, grad_output:tensor):\n",
    "\n",
    "        a = 2*4 \n",
    "\n",
    "        (data, val) = ctx.saved_tensors\n",
    "\n",
    "        grad = 0.5*(1 + data**(a-1)*POW(val, 1/a-1))\n",
    "        \n",
    "        return grad*grad_output\n",
    "\n",
    "class degreePlus(nn.Module):\n",
    "\n",
    "    def __init__(self) -> None:\n",
    "        super(degreePlus, self).__init__()\n",
    "        self.fn =  degreePlus_helper.apply\n",
    "\n",
    "    def forward(self, x) -> tensor:\n",
    "\n",
    "        return self.fn(x)"
   ]
  },
  {
   "cell_type": "code",
   "execution_count": 193,
   "metadata": {},
   "outputs": [],
   "source": [
    "c = 1"
   ]
  },
  {
   "cell_type": "code",
   "execution_count": 194,
   "metadata": {},
   "outputs": [
    {
     "name": "stdout",
     "output_type": "stream",
     "text": [
      "Gradient function is correct\n"
     ]
    }
   ],
   "source": [
    "if c == 1: \n",
    "\n",
    "    #Test function and to see if backward works \n",
    "    torch.manual_seed(2)\n",
    "    \n",
    "    #testing_actFunc = erfMinus()\n",
    "    testing_actFunc = erfPlus()\n",
    "    #testing_actFunc = erfPlus2()\n",
    "    #testing_actFunc = erfPlus3()\n",
    "    #testing_actFunc = erfRelu()\n",
    "    #testing_actFunc = squarePlus()\n",
    "    #testing_actFunc = degreePlus()\n",
    "\n",
    "    data = torch.randn(50, dtype=torch.float64, requires_grad=True) \n",
    "    \n",
    "    try: \n",
    "        torch.autograd.gradcheck(testing_actFunc, data, eps=1e-8, atol=1e-7) \n",
    "        print('Gradient function is correct')\n",
    "    except: \n",
    "        print('Gradient function is NOT correct')"
   ]
  },
  {
   "cell_type": "code",
   "execution_count": 195,
   "metadata": {},
   "outputs": [],
   "source": [
    "#torch.autograd.gradcheck(testing_actFunc, data, eps=1e-8, atol=1e-7)"
   ]
  },
  {
   "cell_type": "code",
   "execution_count": 196,
   "metadata": {},
   "outputs": [
    {
     "data": {
      "image/png": "[encoded data removed]",
      "text/plain": [
       "<Figure size 640x480 with 1 Axes>"
      ]
     },
     "metadata": {},
     "output_type": "display_data"
    }
   ],
   "source": [
    "#Test if the function plots correct graph \n",
    "if c == 1: \n",
    "    dt = 0.1\n",
    "    datax = torch.arange(-4, 4, dt, dtype=torch.float64, requires_grad=True) \n",
    "    \n",
    "    datay = testing_actFunc.forward(datax)\n",
    "\n",
    "    datad = (datay[1:]-datay[:-1])/dt\n",
    "    \n",
    "    plt.plot(datax.detach().numpy(), datay.detach().numpy(), label=\"f\")\n",
    "    plt.plot(datax[1:].detach().numpy(), datad.detach().numpy(), label=\"nf'\")\n",
    "    plt.grid()\n",
    "    plt.legend()\n",
    "    plt.show()"
   ]
  },
  {
   "cell_type": "code",
   "execution_count": null,
   "metadata": {},
   "outputs": [],
   "source": []
  },
  {
   "cell_type": "code",
   "execution_count": null,
   "metadata": {},
   "outputs": [],
   "source": []
  },
  {
   "cell_type": "code",
   "execution_count": null,
   "metadata": {},
   "outputs": [],
   "source": []
  },
  {
   "cell_type": "code",
   "execution_count": null,
   "metadata": {},
   "outputs": [],
   "source": []
  },
  {
   "cell_type": "code",
   "execution_count": null,
   "metadata": {},
   "outputs": [],
   "source": []
  },
  {
   "cell_type": "code",
   "execution_count": null,
   "metadata": {},
   "outputs": [],
   "source": []
  },
  {
   "cell_type": "code",
   "execution_count": null,
   "metadata": {},
   "outputs": [],
   "source": []
  },
  {
   "cell_type": "code",
   "execution_count": null,
   "metadata": {},
   "outputs": [],
   "source": []
  },
  {
   "cell_type": "code",
   "execution_count": null,
   "metadata": {},
   "outputs": [],
   "source": []
  },
  {
   "cell_type": "code",
   "execution_count": null,
   "metadata": {},
   "outputs": [],
   "source": []
  },
  {
   "cell_type": "code",
   "execution_count": null,
   "metadata": {},
   "outputs": [],
   "source": []
  },
  {
   "cell_type": "code",
   "execution_count": null,
   "metadata": {},
   "outputs": [],
   "source": []
  },
  {
   "cell_type": "code",
   "execution_count": null,
   "metadata": {},
   "outputs": [],
   "source": []
  }
 ],
 "metadata": {
  "kernelspec": {
   "display_name": "S4_ENV",
   "language": "python",
   "name": "python3"
  },
  "language_info": {
   "codemirror_mode": {
    "name": "ipython",
    "version": 3
   },
   "file_extension": ".py",
   "mimetype": "text/x-python",
   "name": "python",
   "nbconvert_exporter": "python",
   "pygments_lexer": "ipython3",
   "version": "3.12.9"
  }
 },
 "nbformat": 4,
 "nbformat_minor": 2
}
